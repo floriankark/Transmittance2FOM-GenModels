{
 "cells": [
  {
   "cell_type": "code",
   "execution_count": 1,
   "metadata": {},
   "outputs": [],
   "source": [
    "from dataset import create_dataloader\n",
    "from config.path import VERVET_DATA\n"
   ]
  },
  {
   "cell_type": "code",
   "execution_count": 2,
   "metadata": {},
   "outputs": [
    {
     "name": "stdout",
     "output_type": "stream",
     "text": [
      "Batch 0: torch.Size([8, 3, 64, 64])\n",
      "Batch 1: torch.Size([8, 3, 64, 64])\n",
      "Batch 2: torch.Size([8, 3, 64, 64])\n",
      "Batch 3: torch.Size([8, 3, 64, 64])\n",
      "Batch 4: torch.Size([8, 3, 64, 64])\n",
      "Batch 5: torch.Size([8, 3, 64, 64])\n",
      "Batch 6: torch.Size([8, 3, 64, 64])\n",
      "Batch 7: torch.Size([8, 3, 64, 64])\n",
      "Batch 8: torch.Size([8, 3, 64, 64])\n",
      "Batch 9: torch.Size([8, 3, 64, 64])\n",
      "Batch 10: torch.Size([8, 3, 64, 64])\n",
      "Batch 11: torch.Size([8, 3, 64, 64])\n",
      "Batch 12: torch.Size([8, 3, 64, 64])\n",
      "Batch 13: torch.Size([8, 3, 64, 64])\n",
      "Batch 14: torch.Size([8, 3, 64, 64])\n",
      "Batch 15: torch.Size([8, 3, 64, 64])\n",
      "Batch 16: torch.Size([8, 3, 64, 64])\n",
      "Batch 17: torch.Size([8, 3, 64, 64])\n",
      "Batch 18: torch.Size([8, 3, 64, 64])\n",
      "Batch 19: torch.Size([8, 3, 64, 64])\n",
      "Batch 20: torch.Size([8, 3, 64, 64])\n",
      "Batch 21: torch.Size([8, 3, 64, 64])\n",
      "Batch 22: torch.Size([8, 3, 64, 64])\n",
      "Batch 23: torch.Size([8, 3, 64, 64])\n",
      "Batch 24: torch.Size([8, 3, 64, 64])\n",
      "Batch 25: torch.Size([8, 3, 64, 64])\n",
      "Batch 26: torch.Size([8, 3, 64, 64])\n",
      "Batch 27: torch.Size([8, 3, 64, 64])\n",
      "Batch 28: torch.Size([8, 3, 64, 64])\n",
      "Batch 29: torch.Size([8, 3, 64, 64])\n",
      "Batch 30: torch.Size([8, 3, 64, 64])\n",
      "Batch 31: torch.Size([8, 3, 64, 64])\n",
      "Batch 32: torch.Size([8, 3, 64, 64])\n",
      "Batch 33: torch.Size([8, 3, 64, 64])\n",
      "Batch 34: torch.Size([8, 3, 64, 64])\n",
      "Batch 35: torch.Size([8, 3, 64, 64])\n",
      "Batch 36: torch.Size([8, 3, 64, 64])\n",
      "Batch 37: torch.Size([8, 3, 64, 64])\n",
      "Batch 38: torch.Size([8, 3, 64, 64])\n",
      "Batch 39: torch.Size([8, 3, 64, 64])\n",
      "Batch 40: torch.Size([8, 3, 64, 64])\n",
      "Batch 41: torch.Size([8, 3, 64, 64])\n",
      "Batch 42: torch.Size([8, 3, 64, 64])\n",
      "Batch 43: torch.Size([8, 3, 64, 64])\n",
      "Batch 44: torch.Size([8, 3, 64, 64])\n",
      "Batch 45: torch.Size([8, 3, 64, 64])\n",
      "Batch 46: torch.Size([8, 3, 64, 64])\n",
      "Batch 47: torch.Size([8, 3, 64, 64])\n",
      "Batch 48: torch.Size([8, 3, 64, 64])\n",
      "Batch 49: torch.Size([8, 3, 64, 64])\n",
      "Batch 50: torch.Size([8, 3, 64, 64])\n",
      "Batch 51: torch.Size([8, 3, 64, 64])\n",
      "Batch 52: torch.Size([8, 3, 64, 64])\n",
      "Batch 53: torch.Size([8, 3, 64, 64])\n",
      "Batch 54: torch.Size([8, 3, 64, 64])\n",
      "Batch 55: torch.Size([8, 3, 64, 64])\n",
      "Batch 56: torch.Size([8, 3, 64, 64])\n",
      "Batch 57: torch.Size([8, 3, 64, 64])\n",
      "Batch 58: torch.Size([8, 3, 64, 64])\n",
      "Batch 59: torch.Size([8, 3, 64, 64])\n",
      "Batch 60: torch.Size([8, 3, 64, 64])\n",
      "Batch 61: torch.Size([8, 3, 64, 64])\n",
      "Batch 62: torch.Size([8, 3, 64, 64])\n",
      "Batch 63: torch.Size([8, 3, 64, 64])\n",
      "Batch 64: torch.Size([8, 3, 64, 64])\n",
      "Batch 65: torch.Size([8, 3, 64, 64])\n",
      "Batch 66: torch.Size([8, 3, 64, 64])\n",
      "Batch 67: torch.Size([8, 3, 64, 64])\n",
      "Batch 68: torch.Size([8, 3, 64, 64])\n",
      "Batch 69: torch.Size([8, 3, 64, 64])\n",
      "Batch 70: torch.Size([8, 3, 64, 64])\n",
      "Batch 71: torch.Size([8, 3, 64, 64])\n",
      "Batch 72: torch.Size([8, 3, 64, 64])\n",
      "Batch 73: torch.Size([8, 3, 64, 64])\n",
      "Batch 74: torch.Size([8, 3, 64, 64])\n",
      "Batch 75: torch.Size([8, 3, 64, 64])\n",
      "Batch 76: torch.Size([8, 3, 64, 64])\n",
      "Batch 77: torch.Size([8, 3, 64, 64])\n",
      "Batch 78: torch.Size([8, 3, 64, 64])\n",
      "Batch 79: torch.Size([8, 3, 64, 64])\n",
      "Batch 80: torch.Size([8, 3, 64, 64])\n",
      "Batch 81: torch.Size([8, 3, 64, 64])\n",
      "Batch 82: torch.Size([8, 3, 64, 64])\n",
      "Batch 83: torch.Size([8, 3, 64, 64])\n",
      "Batch 84: torch.Size([8, 3, 64, 64])\n",
      "Batch 85: torch.Size([8, 3, 64, 64])\n",
      "Batch 86: torch.Size([8, 3, 64, 64])\n",
      "Batch 87: torch.Size([8, 3, 64, 64])\n",
      "Batch 88: torch.Size([8, 3, 64, 64])\n",
      "Batch 89: torch.Size([8, 3, 64, 64])\n",
      "Batch 90: torch.Size([8, 3, 64, 64])\n",
      "Batch 91: torch.Size([8, 3, 64, 64])\n",
      "Batch 92: torch.Size([8, 3, 64, 64])\n",
      "Batch 93: torch.Size([8, 3, 64, 64])\n",
      "Batch 94: torch.Size([8, 3, 64, 64])\n",
      "Batch 95: torch.Size([8, 3, 64, 64])\n",
      "Batch 96: torch.Size([8, 3, 64, 64])\n",
      "Batch 97: torch.Size([8, 3, 64, 64])\n",
      "Batch 98: torch.Size([8, 3, 64, 64])\n",
      "Batch 99: torch.Size([8, 3, 64, 64])\n",
      "Batch 100: torch.Size([8, 3, 64, 64])\n",
      "Batch 101: torch.Size([8, 3, 64, 64])\n",
      "Batch 102: torch.Size([8, 3, 64, 64])\n",
      "Batch 103: torch.Size([8, 3, 64, 64])\n",
      "Batch 104: torch.Size([8, 3, 64, 64])\n",
      "Batch 105: torch.Size([8, 3, 64, 64])\n",
      "Batch 106: torch.Size([8, 3, 64, 64])\n",
      "Batch 107: torch.Size([8, 3, 64, 64])\n",
      "Batch 108: torch.Size([8, 3, 64, 64])\n",
      "Batch 109: torch.Size([8, 3, 64, 64])\n",
      "Batch 110: torch.Size([8, 3, 64, 64])\n",
      "Batch 111: torch.Size([8, 3, 64, 64])\n",
      "Batch 112: torch.Size([8, 3, 64, 64])\n",
      "Batch 113: torch.Size([8, 3, 64, 64])\n",
      "Batch 114: torch.Size([8, 3, 64, 64])\n",
      "Batch 115: torch.Size([8, 3, 64, 64])\n",
      "Batch 116: torch.Size([8, 3, 64, 64])\n",
      "Batch 117: torch.Size([8, 3, 64, 64])\n",
      "Batch 118: torch.Size([8, 3, 64, 64])\n",
      "Batch 119: torch.Size([8, 3, 64, 64])\n",
      "Batch 120: torch.Size([8, 3, 64, 64])\n",
      "Batch 121: torch.Size([8, 3, 64, 64])\n",
      "Batch 122: torch.Size([8, 3, 64, 64])\n",
      "Batch 123: torch.Size([8, 3, 64, 64])\n",
      "Batch 124: torch.Size([8, 3, 64, 64])\n"
     ]
    }
   ],
   "source": [
    "dataloader = create_dataloader(brain=\"Vervet1818\", map_type=\"FOM\", patch_size=64, batch_size=8)\n",
    "\n",
    "for batch_idx, batch in enumerate(dataloader):\n",
    "    print(f\"Batch {batch_idx}: {batch.shape}\")\n",
    "    #break  "
   ]
  },
  {
   "cell_type": "code",
   "execution_count": 9,
   "metadata": {},
   "outputs": [
    {
     "name": "stdout",
     "output_type": "stream",
     "text": [
      "0.0\n"
     ]
    },
    {
     "data": {
      "image/png": "[encoded data removed]",
      "text/plain": [
       "<Figure size 600x600 with 1 Axes>"
      ]
     },
     "metadata": {},
     "output_type": "display_data"
    }
   ],
   "source": [
    "import matplotlib.pyplot as plt\n",
    "\n",
    "\n",
    "for batch_idx, batch in enumerate(dataloader):\n",
    "    first_image = batch[6] \n",
    "    \n",
    "    first_image_np = first_image.permute(1, 2, 0).numpy()  \n",
    "    print(min(first_image_np.flatten()))\n",
    "    plt.figure(figsize=(6, 6))\n",
    "    plt.imshow(first_image_np)\n",
    "    plt.title(f\"First Image from Batch {batch_idx}\")\n",
    "    plt.axis('off')\n",
    "    plt.show()\n",
    "    break  "
   ]
  },
  {
   "cell_type": "code",
   "execution_count": null,
   "metadata": {},
   "outputs": [],
   "source": [
    "#Data between 0 and 1\n",
    "for batch_idx, real_images in enumerate(dataloader):\n",
    "    min_val = real_images.min().item()\n",
    "    max_val = real_images.max().item()\n",
    "    print(f\"Batch {batch_idx}: Min = {min_val}, Max = {max_val}\")\n",
    "    if batch_idx == 100:  # Check the first 5 batches only\n",
    "        break"
   ]
  }
 ],
 "metadata": {
  "kernelspec": {
   "display_name": "transmittance2fom-genmodels-JxZnN-I8-py3.12",
   "language": "python",
   "name": "python3"
  },
  "language_info": {
   "codemirror_mode": {
    "name": "ipython",
    "version": 3
   },
   "file_extension": ".py",
   "mimetype": "text/x-python",
   "name": "python",
   "nbconvert_exporter": "python",
   "pygments_lexer": "ipython3",
   "version": "3.12.7"
  }
 },
 "nbformat": 4,
 "nbformat_minor": 2
}
