{
 "cells": [
  {
   "cell_type": "code",
   "execution_count": null,
   "metadata": {},
   "outputs": [],
   "source": [
    "%load_ext autoreload\n",
    "%autoreload 2\n",
    "%matplotlib inline"
   ]
  },
  {
   "cell_type": "code",
   "execution_count": null,
   "metadata": {},
   "outputs": [],
   "source": [
    "import os\n",
    "import h5py as h5\n",
    "import numpy as np\n",
    "from pathlib import Path\n",
    "import matplotlib.pyplot as plt\n",
    "from config.path import VERVET_FOM_DATA, VERVET_TRANS_DATA"
   ]
  },
  {
   "cell_type": "code",
   "execution_count": null,
   "metadata": {},
   "outputs": [],
   "source": [
    "# Get all the file paths for FOM and Transmittance data\n",
    "fom_data = list(Path(VERVET_FOM_DATA).glob('*'))\n",
    "trans_data = list(Path(VERVET_TRANS_DATA).glob('*'))\n",
    "\n",
    "# Load the first Transmittance data file\n",
    "trans_data = h5.File(trans_data[0], 'r')"
   ]
  },
  {
   "cell_type": "code",
   "execution_count": null,
   "metadata": {},
   "outputs": [],
   "source": [
    "fig, ax = plt.subplots(1, 1, figsize=(10, 10))\n",
    "ax.imshow(trans_data[\"pyramid\"][\"00\"], cmap='gray')"
   ]
  },
  {
   "cell_type": "code",
   "execution_count": null,
   "metadata": {},
   "outputs": [],
   "source": [
    "\n",
    "\"\"\"# 5 x 5 grid of images\n",
    "fig, axes = plt.subplots(5, 5, figsize=(20, 20))\n",
    "for ax, key in zip(axes.flatten(), trans_data[\"pyramid\"].keys()):\n",
    "    if str(key) not in [\"10\", \"09\", \"08\", \"07\", \"06\", \"05\", \"04\"]:\n",
    "        ax.imshow(trans_data[\"pyramid\"][str(key)], cmap='gray')\n",
    "        ax.set_title(key)\n",
    "plt.show()\"\"\""
   ]
  }
 ],
 "metadata": {
  "kernelspec": {
   "display_name": ".venv",
   "language": "python",
   "name": "python3"
  },
  "language_info": {
   "codemirror_mode": {
    "name": "ipython",
    "version": 3
   },
   "file_extension": ".py",
   "mimetype": "text/x-python",
   "name": "python",
   "nbconvert_exporter": "python",
   "pygments_lexer": "ipython3",
   "version": "3.12.1"
  }
 },
 "nbformat": 4,
 "nbformat_minor": 2
}
