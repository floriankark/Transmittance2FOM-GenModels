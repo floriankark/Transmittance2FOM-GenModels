{
 "cells": [
  {
   "cell_type": "code",
   "execution_count": 1,
   "metadata": {},
   "outputs": [],
   "source": [
    "%load_ext autoreload\n",
    "%autoreload 2\n",
    "%matplotlib inline"
   ]
  },
  {
   "cell_type": "code",
   "execution_count": 2,
   "metadata": {},
   "outputs": [],
   "source": [
    "import os\n",
    "import h5py as h5\n",
    "import numpy as np\n",
    "from pathlib import Path\n",
    "import matplotlib.pyplot as plt\n",
    "from config.path import VERVET_FOM_DATA, VERVET_TRANS_DATA"
   ]
  },
  {
   "cell_type": "markdown",
   "metadata": {},
   "source": []
  },
  {
   "cell_type": "code",
   "execution_count": null,
   "metadata": {},
   "outputs": [
    {
     "ename": "IndexError",
     "evalue": "list index out of range",
     "output_type": "error",
     "traceback": [
      "\u001b[0;31m---------------------------------------------------------------------------\u001b[0m",
      "\u001b[0;31mIndexError\u001b[0m                                Traceback (most recent call last)",
      "Cell \u001b[0;32mIn[6], line 6\u001b[0m\n\u001b[1;32m      3\u001b[0m trans_data \u001b[38;5;241m=\u001b[39m \u001b[38;5;28mlist\u001b[39m(Path(VERVET_TRANS_DATA)\u001b[38;5;241m.\u001b[39mglob(\u001b[38;5;124m'\u001b[39m\u001b[38;5;124m*\u001b[39m\u001b[38;5;124m'\u001b[39m))\n\u001b[1;32m      5\u001b[0m \u001b[38;5;66;03m# Load the first Transmittance data file\u001b[39;00m\n\u001b[0;32m----> 6\u001b[0m trans_data \u001b[38;5;241m=\u001b[39m h5\u001b[38;5;241m.\u001b[39mFile(\u001b[43mtrans_data\u001b[49m\u001b[43m[\u001b[49m\u001b[38;5;241;43m0\u001b[39;49m\u001b[43m]\u001b[49m, \u001b[38;5;124m'\u001b[39m\u001b[38;5;124mr\u001b[39m\u001b[38;5;124m'\u001b[39m)\n",
      "\u001b[0;31mIndexError\u001b[0m: list index out of range"
     ]
    }
   ],
   "source": [
    "# Get all the file paths for FOM and Transmittance data\n",
    "fom_data = list(Path(VERVET_FOM_DATA).glob('*'))\n",
    "trans_data = list(Path(VERVET_TRANS_DATA).glob('*'))\n",
    "\n",
    "print(len(trans_data))\n",
    "# Load the first Transmittance data file\n",
    "trans_data = h5.File(trans_data[0], 'r')"
   ]
  },
  {
   "cell_type": "code",
   "execution_count": null,
   "metadata": {},
   "outputs": [],
   "source": [
    "fig, ax = plt.subplots(1, 1, figsize=(10, 10))\n",
    "ax.imshow(trans_data[\"pyramid\"][\"00\"], cmap='gray')"
   ]
  },
  {
   "cell_type": "code",
   "execution_count": null,
   "metadata": {},
   "outputs": [],
   "source": [
    "\n",
    "\"\"\"# 5 x 5 grid of images\n",
    "fig, axes = plt.subplots(5, 5, figsize=(20, 20))\n",
    "for ax, key in zip(axes.flatten(), trans_data[\"pyramid\"].keys()):\n",
    "    if str(key) not in [\"10\", \"09\", \"08\", \"07\", \"06\", \"05\", \"04\"]:\n",
    "        ax.imshow(trans_data[\"pyramid\"][str(key)], cmap='gray')\n",
    "        ax.set_title(key)\n",
    "plt.show()\"\"\""
   ]
  }
 ],
 "metadata": {
  "kernelspec": {
   "display_name": ".venv",
   "language": "python",
   "name": "python3"
  },
  "language_info": {
   "codemirror_mode": {
    "name": "ipython",
    "version": 3
   },
   "file_extension": ".py",
   "mimetype": "text/x-python",
   "name": "python",
   "nbconvert_exporter": "python",
   "pygments_lexer": "ipython3",
   "version": "3.12.7"
  }
 },
 "nbformat": 4,
 "nbformat_minor": 2
}
